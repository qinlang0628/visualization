{
 "cells": [
  {
   "cell_type": "code",
   "execution_count": 127,
   "metadata": {},
   "outputs": [],
   "source": [
    "import pandas as pd\n",
    "import datetime\n",
    "from dateutil.relativedelta import relativedelta\n"
   ]
  },
  {
   "cell_type": "code",
   "execution_count": 128,
   "metadata": {},
   "outputs": [
    {
     "data": {
      "text/plain": [
       "2020.1467198884336"
      ]
     },
     "execution_count": 128,
     "metadata": {},
     "output_type": "execute_result"
    }
   ],
   "source": [
    "from datetime import datetime as dt\n",
    "import time\n",
    "\n",
    "def toYearFraction(date):\n",
    "    def sinceEpoch(date): # returns seconds since epoch\n",
    "        return time.mktime(date.timetuple())\n",
    "    s = sinceEpoch\n",
    "\n",
    "    year = date.year\n",
    "    startOfThisYear = dt(year=year, month=1, day=1)\n",
    "    startOfNextYear = dt(year=year+1, month=1, day=1)\n",
    "\n",
    "    yearElapsed = s(date) - s(startOfThisYear)\n",
    "    yearDuration = s(startOfNextYear) - s(startOfThisYear)\n",
    "    fraction = yearElapsed/yearDuration\n",
    "\n",
    "    return date.year + fraction\n",
    "\n",
    "toYearFraction(dt.today())"
   ]
  },
  {
   "cell_type": "code",
   "execution_count": 129,
   "metadata": {},
   "outputs": [
    {
     "data": {
      "text/html": [
       "<div>\n",
       "<style scoped>\n",
       "    .dataframe tbody tr th:only-of-type {\n",
       "        vertical-align: middle;\n",
       "    }\n",
       "\n",
       "    .dataframe tbody tr th {\n",
       "        vertical-align: top;\n",
       "    }\n",
       "\n",
       "    .dataframe thead th {\n",
       "        text-align: right;\n",
       "    }\n",
       "</style>\n",
       "<table border=\"1\" class=\"dataframe\">\n",
       "  <thead>\n",
       "    <tr style=\"text-align: right;\">\n",
       "      <th></th>\n",
       "      <th>name</th>\n",
       "      <th>value</th>\n",
       "      <th>year</th>\n",
       "      <th>lastValue</th>\n",
       "      <th>rank</th>\n",
       "    </tr>\n",
       "  </thead>\n",
       "  <tbody>\n",
       "    <tr>\n",
       "      <th>0</th>\n",
       "      <td>Apple</td>\n",
       "      <td>214480.0</td>\n",
       "      <td>2018.0</td>\n",
       "      <td>211447.4</td>\n",
       "      <td>1</td>\n",
       "    </tr>\n",
       "    <tr>\n",
       "      <th>1</th>\n",
       "      <td>Apple</td>\n",
       "      <td>211447.4</td>\n",
       "      <td>2017.9</td>\n",
       "      <td>208414.8</td>\n",
       "      <td>1</td>\n",
       "    </tr>\n",
       "    <tr>\n",
       "      <th>2</th>\n",
       "      <td>Apple</td>\n",
       "      <td>208414.8</td>\n",
       "      <td>2017.8</td>\n",
       "      <td>205382.2</td>\n",
       "      <td>1</td>\n",
       "    </tr>\n",
       "    <tr>\n",
       "      <th>3</th>\n",
       "      <td>Apple</td>\n",
       "      <td>205382.2</td>\n",
       "      <td>2017.7</td>\n",
       "      <td>202349.6</td>\n",
       "      <td>1</td>\n",
       "    </tr>\n",
       "    <tr>\n",
       "      <th>4</th>\n",
       "      <td>Apple</td>\n",
       "      <td>202349.6</td>\n",
       "      <td>2017.6</td>\n",
       "      <td>199317.0</td>\n",
       "      <td>1</td>\n",
       "    </tr>\n",
       "  </tbody>\n",
       "</table>\n",
       "</div>"
      ],
      "text/plain": [
       "    name     value    year  lastValue  rank\n",
       "0  Apple  214480.0  2018.0   211447.4     1\n",
       "1  Apple  211447.4  2017.9   208414.8     1\n",
       "2  Apple  208414.8  2017.8   205382.2     1\n",
       "3  Apple  205382.2  2017.7   202349.6     1\n",
       "4  Apple  202349.6  2017.6   199317.0     1"
      ]
     },
     "execution_count": 129,
     "metadata": {},
     "output_type": "execute_result"
    }
   ],
   "source": [
    "data  = pd.read_csv(\"brand_values.csv\")\n",
    "data.head(5)"
   ]
  },
  {
   "cell_type": "code",
   "execution_count": 130,
   "metadata": {},
   "outputs": [
    {
     "data": {
      "text/html": [
       "<div>\n",
       "<style scoped>\n",
       "    .dataframe tbody tr th:only-of-type {\n",
       "        vertical-align: middle;\n",
       "    }\n",
       "\n",
       "    .dataframe tbody tr th {\n",
       "        vertical-align: top;\n",
       "    }\n",
       "\n",
       "    .dataframe thead th {\n",
       "        text-align: right;\n",
       "    }\n",
       "</style>\n",
       "<table border=\"1\" class=\"dataframe\">\n",
       "  <thead>\n",
       "    <tr style=\"text-align: right;\">\n",
       "      <th></th>\n",
       "      <th>rank</th>\n",
       "      <th>artist</th>\n",
       "      <th>name</th>\n",
       "      <th>value</th>\n",
       "      <th>date</th>\n",
       "      <th>country</th>\n",
       "      <th>country_code</th>\n",
       "    </tr>\n",
       "  </thead>\n",
       "  <tbody>\n",
       "    <tr>\n",
       "      <th>0</th>\n",
       "      <td>1</td>\n",
       "      <td>The Weeknd</td>\n",
       "      <td>Starboy</td>\n",
       "      <td>3135625</td>\n",
       "      <td>2017-01-01</td>\n",
       "      <td>global</td>\n",
       "      <td>global</td>\n",
       "    </tr>\n",
       "    <tr>\n",
       "      <th>1</th>\n",
       "      <td>2</td>\n",
       "      <td>The Chainsmokers</td>\n",
       "      <td>Closer (feat. Halsey)</td>\n",
       "      <td>3015525</td>\n",
       "      <td>2017-01-01</td>\n",
       "      <td>global</td>\n",
       "      <td>global</td>\n",
       "    </tr>\n",
       "    <tr>\n",
       "      <th>2</th>\n",
       "      <td>3</td>\n",
       "      <td>DJ Snake</td>\n",
       "      <td>Let Me Love You</td>\n",
       "      <td>2545384</td>\n",
       "      <td>2017-01-01</td>\n",
       "      <td>global</td>\n",
       "      <td>global</td>\n",
       "    </tr>\n",
       "    <tr>\n",
       "      <th>3</th>\n",
       "      <td>4</td>\n",
       "      <td>Clean Bandit</td>\n",
       "      <td>Rockabye (feat. Sean Paul &amp; Anne-Marie)</td>\n",
       "      <td>2356604</td>\n",
       "      <td>2017-01-01</td>\n",
       "      <td>global</td>\n",
       "      <td>global</td>\n",
       "    </tr>\n",
       "    <tr>\n",
       "      <th>4</th>\n",
       "      <td>5</td>\n",
       "      <td>Drake</td>\n",
       "      <td>One Dance</td>\n",
       "      <td>2259887</td>\n",
       "      <td>2017-01-01</td>\n",
       "      <td>global</td>\n",
       "      <td>global</td>\n",
       "    </tr>\n",
       "  </tbody>\n",
       "</table>\n",
       "</div>"
      ],
      "text/plain": [
       "   rank            artist                                     name    value  \\\n",
       "0     1        The Weeknd                                  Starboy  3135625   \n",
       "1     2  The Chainsmokers                    Closer (feat. Halsey)  3015525   \n",
       "2     3          DJ Snake                          Let Me Love You  2545384   \n",
       "3     4      Clean Bandit  Rockabye (feat. Sean Paul & Anne-Marie)  2356604   \n",
       "4     5             Drake                                One Dance  2259887   \n",
       "\n",
       "        date country country_code  \n",
       "0 2017-01-01  global       global  \n",
       "1 2017-01-01  global       global  \n",
       "2 2017-01-01  global       global  \n",
       "3 2017-01-01  global       global  \n",
       "4 2017-01-01  global       global  "
      ]
     },
     "execution_count": 130,
     "metadata": {},
     "output_type": "execute_result"
    }
   ],
   "source": [
    "data = pd.read_csv(\"spotify_incomplete.csv\")\n",
    "data.rename(columns = {\"title\":\"name\", \"streams\":\"value\"}, inplace=True)\n",
    "data['date'] = pd.to_datetime(data[\"date\"])\n",
    "data['value'] = data['value'].apply(lambda x: x.replace(\",\", \"\"))\n",
    "data['value'] = pd.to_numeric(data['value'])\n",
    "data.head(5)"
   ]
  },
  {
   "cell_type": "code",
   "execution_count": 131,
   "metadata": {},
   "outputs": [],
   "source": [
    "data['lastValue'] = data.groupby('name')['value'].shift(1)\n",
    "data['lastDay'] = data.groupby('name')['date'].shift(1)\n",
    "data['oneDay'] = (data['date'] - data['lastDay']) == pd.Timedelta(1, unit='d') \n",
    "data['lastValue'] = data.apply(lambda row: row['lastValue'] if row['oneDay'] else row['value'], axis=1)\n"
   ]
  },
  {
   "cell_type": "code",
   "execution_count": 132,
   "metadata": {},
   "outputs": [
    {
     "data": {
      "text/html": [
       "<div>\n",
       "<style scoped>\n",
       "    .dataframe tbody tr th:only-of-type {\n",
       "        vertical-align: middle;\n",
       "    }\n",
       "\n",
       "    .dataframe tbody tr th {\n",
       "        vertical-align: top;\n",
       "    }\n",
       "\n",
       "    .dataframe thead th {\n",
       "        text-align: right;\n",
       "    }\n",
       "</style>\n",
       "<table border=\"1\" class=\"dataframe\">\n",
       "  <thead>\n",
       "    <tr style=\"text-align: right;\">\n",
       "      <th></th>\n",
       "      <th>rank</th>\n",
       "      <th>artist</th>\n",
       "      <th>name</th>\n",
       "      <th>value</th>\n",
       "      <th>date</th>\n",
       "      <th>country</th>\n",
       "      <th>country_code</th>\n",
       "      <th>lastValue</th>\n",
       "      <th>year</th>\n",
       "    </tr>\n",
       "  </thead>\n",
       "  <tbody>\n",
       "    <tr>\n",
       "      <th>0</th>\n",
       "      <td>1</td>\n",
       "      <td>The Weeknd</td>\n",
       "      <td>Starboy</td>\n",
       "      <td>3135625</td>\n",
       "      <td>2017-01-01</td>\n",
       "      <td>global</td>\n",
       "      <td>global</td>\n",
       "      <td>3135625.0</td>\n",
       "      <td>2017.0</td>\n",
       "    </tr>\n",
       "    <tr>\n",
       "      <th>1</th>\n",
       "      <td>2</td>\n",
       "      <td>The Chainsmokers</td>\n",
       "      <td>Closer (feat. Halsey)</td>\n",
       "      <td>3015525</td>\n",
       "      <td>2017-01-01</td>\n",
       "      <td>global</td>\n",
       "      <td>global</td>\n",
       "      <td>3015525.0</td>\n",
       "      <td>2017.0</td>\n",
       "    </tr>\n",
       "    <tr>\n",
       "      <th>2</th>\n",
       "      <td>3</td>\n",
       "      <td>DJ Snake</td>\n",
       "      <td>Let Me Love You</td>\n",
       "      <td>2545384</td>\n",
       "      <td>2017-01-01</td>\n",
       "      <td>global</td>\n",
       "      <td>global</td>\n",
       "      <td>2545384.0</td>\n",
       "      <td>2017.0</td>\n",
       "    </tr>\n",
       "    <tr>\n",
       "      <th>3</th>\n",
       "      <td>4</td>\n",
       "      <td>Clean Bandit</td>\n",
       "      <td>Rockabye (feat. Sean Paul &amp; Anne-Marie)</td>\n",
       "      <td>2356604</td>\n",
       "      <td>2017-01-01</td>\n",
       "      <td>global</td>\n",
       "      <td>global</td>\n",
       "      <td>2356604.0</td>\n",
       "      <td>2017.0</td>\n",
       "    </tr>\n",
       "    <tr>\n",
       "      <th>4</th>\n",
       "      <td>5</td>\n",
       "      <td>Drake</td>\n",
       "      <td>One Dance</td>\n",
       "      <td>2259887</td>\n",
       "      <td>2017-01-01</td>\n",
       "      <td>global</td>\n",
       "      <td>global</td>\n",
       "      <td>2259887.0</td>\n",
       "      <td>2017.0</td>\n",
       "    </tr>\n",
       "  </tbody>\n",
       "</table>\n",
       "</div>"
      ],
      "text/plain": [
       "   rank            artist                                     name    value  \\\n",
       "0     1        The Weeknd                                  Starboy  3135625   \n",
       "1     2  The Chainsmokers                    Closer (feat. Halsey)  3015525   \n",
       "2     3          DJ Snake                          Let Me Love You  2545384   \n",
       "3     4      Clean Bandit  Rockabye (feat. Sean Paul & Anne-Marie)  2356604   \n",
       "4     5             Drake                                One Dance  2259887   \n",
       "\n",
       "        date country country_code  lastValue    year  \n",
       "0 2017-01-01  global       global  3135625.0  2017.0  \n",
       "1 2017-01-01  global       global  3015525.0  2017.0  \n",
       "2 2017-01-01  global       global  2545384.0  2017.0  \n",
       "3 2017-01-01  global       global  2356604.0  2017.0  \n",
       "4 2017-01-01  global       global  2259887.0  2017.0  "
      ]
     },
     "execution_count": 132,
     "metadata": {},
     "output_type": "execute_result"
    }
   ],
   "source": [
    "data['year'] = data['date'].apply(toYearFraction)\n",
    "data = data.drop([\"lastDay\", \"oneDay\"], axis=1)\n",
    "data.head()"
   ]
  },
  {
   "cell_type": "code",
   "execution_count": 125,
   "metadata": {},
   "outputs": [],
   "source": [
    "# data = data[data['country']==\"global\"]"
   ]
  },
  {
   "cell_type": "code",
   "execution_count": 133,
   "metadata": {},
   "outputs": [],
   "source": [
    "data.to_csv(\"spotify.csv\")"
   ]
  },
  {
   "cell_type": "code",
   "execution_count": 109,
   "metadata": {},
   "outputs": [
    {
     "data": {
      "text/plain": [
       "0"
      ]
     },
     "execution_count": 109,
     "metadata": {},
     "output_type": "execute_result"
    }
   ],
   "source": []
  }
 ],
 "metadata": {
  "kernelspec": {
   "display_name": "Python 3",
   "language": "python",
   "name": "python3"
  },
  "language_info": {
   "codemirror_mode": {
    "name": "ipython",
    "version": 3
   },
   "file_extension": ".py",
   "mimetype": "text/x-python",
   "name": "python",
   "nbconvert_exporter": "python",
   "pygments_lexer": "ipython3",
   "version": "3.7.3"
  }
 },
 "nbformat": 4,
 "nbformat_minor": 2
}
